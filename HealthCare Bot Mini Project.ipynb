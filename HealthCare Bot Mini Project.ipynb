{
 "cells": [
  {
   "cell_type": "code",
   "execution_count": null,
   "id": "4b36ef14-f70c-41e4-a01f-45e45bacd366",
   "metadata": {},
   "outputs": [
    {
     "name": "stdout",
     "output_type": "stream",
     "text": [
      "Bot: Hello! Welcome to HealthCare Assist. How can I help you today?\n"
     ]
    }
   ],
   "source": [
    "# Predefined responses based on keywords\n",
    "responses = {\n",
    "    \"hello\": \"Hi there! Hope you're doing well. How may I assist you?\",\n",
    "    \"hi\": \"Hello! How can I help you today?\",\n",
    "    \"i need help to book appointment\": \"Sure, I can help you book an appointment. May I have your full name?\",\n",
    "    \"name\": \"Thank you. May I have your contact number?\",\n",
    "    \"contact\": \"Thanks. Could you also provide your address?\",\n",
    "    \"address\": \"Thank you! I’ll book the earliest available appointment and share the confirmation shortly.\",\n",
    "    \"thank you\": \"You're welcome! Do you need anything else today?\",\n",
    "    \"ok\": \"Noted! Thank you for your patience. Your request has been recorded.\",\n",
    "    \"bye\": \"Thanks for connecting with HealthCare Assist. Have a great day!\"\n",
    "}\n",
    "\n",
    "def chatbot():\n",
    "    print(\"Bot: Hello! Welcome to HealthCare Assist. How can I help you today?\")\n",
    "    while True:\n",
    "        user_input = input(\"You: \").lower()\n",
    "        \n",
    "        if user_input in responses:\n",
    "            print(\"Bot:\", responses[user_input])\n",
    "            if user_input == \"bye\":\n",
    "                break\n",
    "        else:\n",
    "            print(\"Bot: I'm sorry, I didn’t understand that. Could you please clarify or ask about appointments, payments, or support?\")\n",
    "            \n",
    "chatbot()\n"
   ]
  },
  {
   "cell_type": "code",
   "execution_count": null,
   "id": "ea4c348f-4e89-4708-8881-6d92193ffa11",
   "metadata": {},
   "outputs": [],
   "source": []
  }
 ],
 "metadata": {
  "kernelspec": {
   "display_name": "Python [conda env:base] *",
   "language": "python",
   "name": "conda-base-py"
  },
  "language_info": {
   "codemirror_mode": {
    "name": "ipython",
    "version": 3
   },
   "file_extension": ".py",
   "mimetype": "text/x-python",
   "name": "python",
   "nbconvert_exporter": "python",
   "pygments_lexer": "ipython3",
   "version": "3.12.7"
  }
 },
 "nbformat": 4,
 "nbformat_minor": 5
}
